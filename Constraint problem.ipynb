{
 "cells": [
  {
   "cell_type": "code",
   "execution_count": 4,
   "id": "826446a2",
   "metadata": {},
   "outputs": [],
   "source": [
    "import gurobipy as gp\n",
    "from gurobipy import GRB\n",
    "import pandas as pd\n",
    "from gurobipy import quicksum as quicksum\n",
    "import numpy as np\n",
    "from scipy.stats import binom\n",
    "import matplotlib.pyplot as plt"
   ]
  },
  {
   "cell_type": "code",
   "execution_count": 47,
   "id": "36a8e227",
   "metadata": {},
   "outputs": [],
   "source": [
    "def partial_binCDF(x, n, p):\n",
    "    prob = 1 -binom.cdf(x, n, p)\n",
    "    return prob\n",
    "\n",
    "def riskLevel(beta, x):\n",
    "    return x*(1-beta)"
   ]
  },
  {
   "cell_type": "code",
   "execution_count": 49,
   "id": "6b8f041b",
   "metadata": {},
   "outputs": [
    {
     "data": {
      "text/plain": [
       "[<matplotlib.lines.Line2D at 0x2104b78e4f0>]"
      ]
     },
     "execution_count": 49,
     "metadata": {},
     "output_type": "execute_result"
    },
    {
     "data": {
      "image/png": "[encoded data removed]",
      "text/plain": [
       "<Figure size 432x288 with 1 Axes>"
      ]
     },
     "metadata": {
      "needs_background": "light"
     },
     "output_type": "display_data"
    }
   ],
   "source": [
    "n = 50\n",
    "omega = 0.8\n",
    "beta = 0.9\n",
    "xs = []\n",
    "for i in range (n):\n",
    "    xs.append(i)\n",
    "ys = []\n",
    "y2 = []\n",
    "for i in range(n):\n",
    "    ys.append(partial_binCDF(i, n, omega))\n",
    "    y2.append(riskLevel(beta, i))\n",
    "plt.plot(xs, ys, 'bo', ms=8, label='binom pmf')\n",
    "plt.plot(xs, y2, 'o',ms=1)"
   ]
  },
  {
   "cell_type": "code",
   "execution_count": 51,
   "id": "d357e16e",
   "metadata": {},
   "outputs": [
    {
     "data": {
      "text/plain": [
       "10"
      ]
     },
     "execution_count": 51,
     "metadata": {},
     "output_type": "execute_result"
    }
   ],
   "source": [
    "minDist = 100\n",
    "smallest = 100\n",
    "for i in range(50):\n",
    "    if abs(y2[i] - ys[i]) <= minDist:\n",
    "        minDist = abs(y2[i] - ys[i])\n",
    "        smallest = i\n",
    "smallest"
   ]
  },
  {
   "cell_type": "code",
   "execution_count": 52,
   "id": "7dce9cc9",
   "metadata": {},
   "outputs": [
    {
     "data": {
      "text/plain": [
       "2.220446049250313e-16"
      ]
     },
     "execution_count": 52,
     "metadata": {},
     "output_type": "execute_result"
    }
   ],
   "source": [
    "minDist"
   ]
  },
  {
   "cell_type": "code",
   "execution_count": 54,
   "id": "c1eeb033",
   "metadata": {},
   "outputs": [
    {
     "name": "stdout",
     "output_type": "stream",
     "text": [
      "Collecting gurobipy==10.0.0Note: you may need to restart the kernel to use updated packages.\n"
     ]
    },
    {
     "name": "stderr",
     "output_type": "stream",
     "text": [
      "ERROR: Cannot uninstall 'gurobipy'. It is a distutils installed project and thus we cannot accurately determine which files belong to it which would lead to only a partial uninstall.\n"
     ]
    },
    {
     "name": "stdout",
     "output_type": "stream",
     "text": [
      "\n",
      "  Downloading gurobipy-10.0.0-cp38-cp38-win_amd64.whl (9.7 MB)\n",
      "Installing collected packages: gurobipy\n",
      "  Attempting uninstall: gurobipy\n",
      "    Found existing installation: gurobipy 9.1.2\n"
     ]
    }
   ],
   "source": [
    "pip install gurobipy==10.0.0"
   ]
  },
  {
   "cell_type": "code",
   "execution_count": null,
   "id": "548920c3",
   "metadata": {},
   "outputs": [],
   "source": []
  }
 ],
 "metadata": {
  "kernelspec": {
   "display_name": "Python 3",
   "language": "python",
   "name": "python3"
  },
  "language_info": {
   "codemirror_mode": {
    "name": "ipython",
    "version": 3
   },
   "file_extension": ".py",
   "mimetype": "text/x-python",
   "name": "python",
   "nbconvert_exporter": "python",
   "pygments_lexer": "ipython3",
   "version": "3.8.8"
  }
 },
 "nbformat": 4,
 "nbformat_minor": 5
}
